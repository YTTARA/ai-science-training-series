{
 "cells": [
  {
   "cell_type": "code",
   "execution_count": 2,
   "id": "2f64a4a0",
   "metadata": {},
   "outputs": [],
   "source": [
    "import pandas as pd\n",
    "import matplotlib.pyplot as plt"
   ]
  },
  {
   "cell_type": "code",
   "execution_count": 3,
   "id": "378f1a98",
   "metadata": {},
   "outputs": [
    {
     "data": {
      "text/plain": [
       "'\\nparallel_threads,prefetch_buffer_size,\\n128,8,\"loss=10.565, acc=0.004 (16.003 img/s).\"\\n64,16,\"loss=10.519, acc=0.000 (15.807 img/s).\"\\n256,16,\"loss=10.561, acc=0.000 (16.011 img/s).\"\\n256,64,\"loss=10.492, acc=0.000 (15.980 img/s).\"\\n256,128,\"loss=10.633, acc=0.000 (15.724 img/s).\"\\n128,16,\"loss=10.609, acc=0.000 (16.168 img/s)\"\\n'"
      ]
     },
     "execution_count": 3,
     "metadata": {},
     "output_type": "execute_result"
    }
   ],
   "source": [
    "# tried different values for parallel_threads and prefetch_buffer_size\n",
    "'''\n",
    "parallel_threads,prefetch_buffer_size,\n",
    "128,8,\"loss=10.565, acc=0.004 (16.003 img/s).\"\n",
    "64,16,\"loss=10.519, acc=0.000 (15.807 img/s).\"\n",
    "256,16,\"loss=10.561, acc=0.000 (16.011 img/s).\"\n",
    "256,64,\"loss=10.492, acc=0.000 (15.980 img/s).\"\n",
    "256,128,\"loss=10.633, acc=0.000 (15.724 img/s).\"\n",
    "128,16,\"loss=10.609, acc=0.000 (16.168 img/s)\"\n",
    "'''"
   ]
  },
  {
   "cell_type": "code",
   "execution_count": 4,
   "id": "569ff595",
   "metadata": {},
   "outputs": [],
   "source": [
    "parallel_threads = [128, 64, 256,256,256,128]\n",
    "prefetch_buffer_size = [8,16,16,64,128,16]\n",
    "mean_image_rate = [16.003, 15.807, 16.011,15.980,15.724, 16.168]"
   ]
  },
  {
   "cell_type": "code",
   "execution_count": 5,
   "id": "04019234",
   "metadata": {},
   "outputs": [],
   "source": [
    "df = pd.DataFrame({'parallel_threads' : parallel_threads, 'prefetch_buffer_size' : prefetch_buffer_size, 'mean_image_rate':mean_image_rate})  "
   ]
  },
  {
   "cell_type": "code",
   "execution_count": 9,
   "id": "fcb45681",
   "metadata": {},
   "outputs": [
    {
     "data": {
      "text/html": [
       "<div>\n",
       "<style scoped>\n",
       "    .dataframe tbody tr th:only-of-type {\n",
       "        vertical-align: middle;\n",
       "    }\n",
       "\n",
       "    .dataframe tbody tr th {\n",
       "        vertical-align: top;\n",
       "    }\n",
       "\n",
       "    .dataframe thead th {\n",
       "        text-align: right;\n",
       "    }\n",
       "</style>\n",
       "<table border=\"1\" class=\"dataframe\">\n",
       "  <thead>\n",
       "    <tr style=\"text-align: right;\">\n",
       "      <th></th>\n",
       "      <th>parallel_threads</th>\n",
       "      <th>prefetch_buffer_size</th>\n",
       "      <th>mean_image_rate</th>\n",
       "    </tr>\n",
       "  </thead>\n",
       "  <tbody>\n",
       "    <tr>\n",
       "      <th>1</th>\n",
       "      <td>64</td>\n",
       "      <td>16</td>\n",
       "      <td>15.807</td>\n",
       "    </tr>\n",
       "    <tr>\n",
       "      <th>0</th>\n",
       "      <td>128</td>\n",
       "      <td>8</td>\n",
       "      <td>16.003</td>\n",
       "    </tr>\n",
       "    <tr>\n",
       "      <th>5</th>\n",
       "      <td>128</td>\n",
       "      <td>16</td>\n",
       "      <td>16.168</td>\n",
       "    </tr>\n",
       "    <tr>\n",
       "      <th>2</th>\n",
       "      <td>256</td>\n",
       "      <td>16</td>\n",
       "      <td>16.011</td>\n",
       "    </tr>\n",
       "    <tr>\n",
       "      <th>3</th>\n",
       "      <td>256</td>\n",
       "      <td>64</td>\n",
       "      <td>15.980</td>\n",
       "    </tr>\n",
       "    <tr>\n",
       "      <th>4</th>\n",
       "      <td>256</td>\n",
       "      <td>128</td>\n",
       "      <td>15.724</td>\n",
       "    </tr>\n",
       "  </tbody>\n",
       "</table>\n",
       "</div>"
      ],
      "text/plain": [
       "   parallel_threads  prefetch_buffer_size  mean_image_rate\n",
       "1                64                    16           15.807\n",
       "0               128                     8           16.003\n",
       "5               128                    16           16.168\n",
       "2               256                    16           16.011\n",
       "3               256                    64           15.980\n",
       "4               256                   128           15.724"
      ]
     },
     "execution_count": 9,
     "metadata": {},
     "output_type": "execute_result"
    }
   ],
   "source": [
    "df.sort_values(['parallel_threads','prefetch_buffer_size'])"
   ]
  }
 ],
 "metadata": {
  "kernelspec": {
   "display_name": "Python 3 (ipykernel)",
   "language": "python",
   "name": "python3"
  },
  "language_info": {
   "codemirror_mode": {
    "name": "ipython",
    "version": 3
   },
   "file_extension": ".py",
   "mimetype": "text/x-python",
   "name": "python",
   "nbconvert_exporter": "python",
   "pygments_lexer": "ipython3",
   "version": "3.9.7"
  }
 },
 "nbformat": 4,
 "nbformat_minor": 5
}
