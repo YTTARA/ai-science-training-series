{
 "cells": [
  {
   "cell_type": "code",
   "execution_count": 1,
   "id": "662a93d1",
   "metadata": {
    "id": "662a93d1"
   },
   "outputs": [],
   "source": [
    "%load_ext autoreload\n",
    "%autoreload 2"
   ]
  },
  {
   "cell_type": "code",
   "execution_count": 2,
   "id": "e19878bb",
   "metadata": {
    "id": "e19878bb"
   },
   "outputs": [],
   "source": [
    "%matplotlib inline\n",
    "\n",
    "import tensorflow as tf\n",
    "\n",
    "import numpy\n",
    "import matplotlib.pyplot as plt"
   ]
  },
  {
   "cell_type": "code",
   "execution_count": 3,
   "id": "da412dba",
   "metadata": {
    "colab": {
     "base_uri": "https://localhost:8080/"
    },
    "id": "da412dba",
    "outputId": "6f81570c-c77c-455e-b5f4-89112d5d40ef"
   },
   "outputs": [
    {
     "name": "stdout",
     "output_type": "stream",
     "text": [
      "Downloading data from https://storage.googleapis.com/tensorflow/tf-keras-datasets/mnist.npz\n",
      "11493376/11490434 [==============================] - 1s 0us/step\n",
      "11501568/11490434 [==============================] - 1s 0us/step\n",
      "(60000, 28, 28)\n",
      "(60000, 784)\n",
      "\n",
      "MNIST data loaded: train: 60000 test: 10000\n",
      "X_train: (60000, 784)\n",
      "y_train: (60000,)\n"
     ]
    }
   ],
   "source": [
    "# repeating the data prep from the previous notebook\n",
    "(x_train, y_train), (x_test, y_test) = tf.keras.datasets.mnist.load_data()\n",
    "x_train = x_train.astype(numpy.float32)\n",
    "x_test  = x_test.astype(numpy.float32)\n",
    "\n",
    "x_train /= 255.\n",
    "x_test  /= 255.\n",
    "\n",
    "print(x_train.shape)\n",
    "x_train = x_train.reshape(x_train.shape[0], numpy.prod(x_train[0,:,:].shape))\n",
    "x_test = x_test.reshape(x_test.shape[0], numpy.prod(x_test[0,:,:].shape))\n",
    "\n",
    "print(x_train.shape)\n",
    "y_train = y_train.astype(numpy.int32)\n",
    "y_test  = y_test.astype(numpy.int32)\n",
    "\n",
    "print()\n",
    "print('MNIST data loaded: train:',len(x_train),'test:',len(x_test))\n",
    "print('X_train:', x_train.shape)\n",
    "print('y_train:', y_train.shape)\n",
    "\n",
    "# one-hot encoding:\n",
    "nb_classes = 10\n",
    "y_train_onehot = tf.keras.utils.to_categorical(y_train, nb_classes)\n",
    "y_test_onehot = tf.keras.utils.to_categorical(y_test, nb_classes)"
   ]
  },
  {
   "cell_type": "code",
   "execution_count": 14,
   "id": "YfQgD-s56DOM",
   "metadata": {
    "colab": {
     "base_uri": "https://localhost:8080/",
     "height": 339
    },
    "id": "YfQgD-s56DOM",
    "outputId": "4a0bc59c-d4bf-4366-a094-9123d2492651"
   },
   "outputs": [],
   "source": [
    "import sys"
   ]
  },
  {
   "cell_type": "code",
   "execution_count": 16,
   "id": "pBzm8dUJ5Bb9",
   "metadata": {
    "colab": {
     "base_uri": "https://localhost:8080/",
     "height": 356
    },
    "id": "pBzm8dUJ5Bb9",
    "outputId": "d298961c-4ed0-472a-d8ef-30d353e2f7a4"
   },
   "outputs": [],
   "source": [
    "# Here we import an implementation of a two-layer neural network \n",
    "# this code is based on pieces of the first assignment from Stanford's CSE231n course, \n",
    "# hosted at https://github.com/cs231n/cs231n.github.io with the MIT license\n",
    "from fc_net import TwoLayerNet"
   ]
  },
  {
   "cell_type": "code",
   "execution_count": 17,
   "id": "4e00e3de",
   "metadata": {
    "id": "4e00e3de"
   },
   "outputs": [],
   "source": [
    "num_features = x_train.shape[1] # this is the number of pixels\n",
    "# The weights are initialized from a normal distribution with standard deviation weight_scale\n",
    "model = TwoLayerNet(input_dim=num_features, hidden_dim=300, num_classes=nb_classes, weight_scale=.01)"
   ]
  },
  {
   "cell_type": "code",
   "execution_count": 18,
   "id": "32f7f1aa",
   "metadata": {
    "id": "32f7f1aa"
   },
   "outputs": [],
   "source": [
    "# here you can take a look if you want at the initial loss from an untrained network\n",
    "loss, gradients = model.loss(x_train, y_train_onehot)"
   ]
  },
  {
   "cell_type": "code",
   "execution_count": 19,
   "id": "c43e3aa5",
   "metadata": {
    "id": "c43e3aa5"
   },
   "outputs": [],
   "source": [
    "# a simple implementation of stochastic gradient descent\n",
    "def sgd(model, gradients, learning_rate):\n",
    "    for p, w in model.params.items():\n",
    "        dw = gradients[p]\n",
    "        new_weights = w - learning_rate * dw\n",
    "        model.params[p] = new_weights\n",
    "    return model"
   ]
  },
  {
   "cell_type": "code",
   "execution_count": 20,
   "id": "c8316228",
   "metadata": {
    "id": "c8316228"
   },
   "outputs": [],
   "source": [
    "# one training step\n",
    "def learn(model, x_train, y_train_onehot, learning_rate):\n",
    "    loss, gradients = model.loss(x_train, y_train_onehot)\n",
    "    model = sgd(model, gradients, learning_rate)\n",
    "    return loss, model"
   ]
  },
  {
   "cell_type": "code",
   "execution_count": 21,
   "id": "81886e8c",
   "metadata": {
    "id": "81886e8c"
   },
   "outputs": [],
   "source": [
    "def accuracy(model, x, true_values):\n",
    "    scores = model.loss(x)\n",
    "    predictions = numpy.argmax(scores, axis=1)\n",
    "    N = predictions.shape[0]\n",
    "    acc = (true_values == predictions).sum() / N\n",
    "    return acc"
   ]
  },
  {
   "cell_type": "code",
   "execution_count": 22,
   "id": "49754891",
   "metadata": {
    "id": "49754891"
   },
   "outputs": [
    {
     "name": "stdout",
     "output_type": "stream",
     "text": [
      "epoch 0, loss 2.30121, accuracy 0.16\n",
      "epoch 1, loss 2.29950, accuracy 0.19\n",
      "epoch 2, loss 2.29801, accuracy 0.22\n",
      "epoch 3, loss 2.29639, accuracy 0.25\n",
      "epoch 4, loss 2.29503, accuracy 0.29\n",
      "epoch 5, loss 2.29334, accuracy 0.32\n",
      "epoch 6, loss 2.29180, accuracy 0.35\n",
      "epoch 7, loss 2.29042, accuracy 0.38\n",
      "epoch 8, loss 2.28897, accuracy 0.41\n",
      "epoch 9, loss 2.28714, accuracy 0.44\n"
     ]
    },
    {
     "data": {
      "text/plain": [
       "[<matplotlib.lines.Line2D at 0x1fb276d52b0>]"
      ]
     },
     "execution_count": 22,
     "metadata": {},
     "output_type": "execute_result"
    },
    {
     "data": {
      "image/png": "[encoded data removed]",
      "text/plain": [
       "<Figure size 432x288 with 1 Axes>"
      ]
     },
     "metadata": {
      "needs_background": "light"
     },
     "output_type": "display_data"
    }
   ],
   "source": [
    "# Here's an example training loop using this two-layer model. Can you do better? \n",
    "learning_rate = 0.01  \n",
    "num_examples = x_train.shape[0]\n",
    "batch_size = 10000\n",
    "num_batches = int(num_examples / batch_size)\n",
    "num_epochs = 10\n",
    "losses = numpy.zeros(num_batches*num_epochs,)\n",
    "indices = numpy.arange(num_examples)\n",
    "\n",
    "i = 0\n",
    "for epoch in range(0, num_epochs):\n",
    "    # in each epoch, we loop over all of the training examples\n",
    "    for step in range(0, num_batches):\n",
    "        # grabbing the next batch\n",
    "        offset = step * batch_size\n",
    "        batch_range = range(offset, offset+batch_size)\n",
    "        x_train_batch = x_train[batch_range, :]\n",
    "        y_train_batch = y_train_onehot[batch_range,:]\n",
    "        \n",
    "        # feed the next batch in to do one sgd step\n",
    "        loss, model = learn(model, x_train_batch, y_train_batch, learning_rate)\n",
    "        losses[i] = loss\n",
    "        i += 1\n",
    "\n",
    "    acc = accuracy(model, x_train, y_train)\n",
    "    print(\"epoch %d, loss %.5f, accuracy %.2f\" % (epoch, loss, acc))\n",
    "    \n",
    "    # reshuffle the data so that we get a new set of batches\n",
    "    numpy.random.shuffle(indices)\n",
    "    x_train = x_train[indices,:]\n",
    "    y_train = y_train[indices] # keep this shuffled the same way for use in accuracy calculation\n",
    "    y_train_onehot = y_train_onehot[indices,:]\n",
    "plt.plot(losses)"
   ]
  },
  {
   "cell_type": "code",
   "execution_count": 23,
   "id": "a4f274c6",
   "metadata": {
    "id": "a4f274c6"
   },
   "outputs": [
    {
     "data": {
      "text/plain": [
       "0.43533333333333335"
      ]
     },
     "execution_count": 23,
     "metadata": {},
     "output_type": "execute_result"
    }
   ],
   "source": [
    "accuracy(model, x_train, y_train)"
   ]
  },
  {
   "cell_type": "markdown",
   "id": "a2dd5728",
   "metadata": {
    "id": "a2dd5728"
   },
   "source": [
    "# Homework: improve the accuracy of this model. "
   ]
  },
  {
   "cell_type": "markdown",
   "id": "faaf0515",
   "metadata": {
    "id": "faaf0515"
   },
   "source": [
    "Update this notebook so that the accuracy is improved. How high can you get it? You could change things directly in the notebook, such as increasing the number of epochs, changing the learning weight, changing the width of the hidden layer, etc. If you're more ambitious, you could also try changing the model definition itself by checking out the associated Python files. For example, you could add more layers to the network. The current notebook has a training accuracy of about 43%, but will vary with randomness."
   ]
  },
  {
   "cell_type": "code",
   "execution_count": 24,
   "id": "6e484c13",
   "metadata": {
    "id": "6e484c13"
   },
   "outputs": [
    {
     "name": "stdout",
     "output_type": "stream",
     "text": [
      "epoch 0, loss 2.28350, accuracy 0.48\n",
      "epoch 1, loss 2.28029, accuracy 0.53\n",
      "epoch 2, loss 2.27615, accuracy 0.56\n",
      "epoch 3, loss 2.27206, accuracy 0.58\n",
      "epoch 4, loss 2.26784, accuracy 0.60\n",
      "epoch 5, loss 2.26276, accuracy 0.61\n",
      "epoch 6, loss 2.25786, accuracy 0.62\n",
      "epoch 7, loss 2.25161, accuracy 0.63\n",
      "epoch 8, loss 2.24480, accuracy 0.63\n",
      "epoch 9, loss 2.23917, accuracy 0.64\n",
      "epoch 10, loss 2.23034, accuracy 0.64\n",
      "epoch 11, loss 2.22303, accuracy 0.64\n",
      "epoch 12, loss 2.21411, accuracy 0.64\n",
      "epoch 13, loss 2.20345, accuracy 0.65\n",
      "epoch 14, loss 2.19505, accuracy 0.65\n",
      "epoch 15, loss 2.18391, accuracy 0.65\n",
      "epoch 16, loss 2.16830, accuracy 0.65\n",
      "epoch 17, loss 2.15729, accuracy 0.65\n",
      "epoch 18, loss 2.14305, accuracy 0.65\n",
      "epoch 19, loss 2.12734, accuracy 0.65\n",
      "epoch 20, loss 2.11053, accuracy 0.66\n",
      "epoch 21, loss 2.09137, accuracy 0.66\n",
      "epoch 22, loss 2.07438, accuracy 0.66\n",
      "epoch 23, loss 2.05448, accuracy 0.67\n",
      "epoch 24, loss 2.03328, accuracy 0.67\n",
      "epoch 25, loss 2.01330, accuracy 0.68\n",
      "epoch 26, loss 1.98807, accuracy 0.68\n",
      "epoch 27, loss 1.95834, accuracy 0.69\n",
      "epoch 28, loss 1.93558, accuracy 0.69\n",
      "epoch 29, loss 1.90533, accuracy 0.70\n",
      "epoch 30, loss 1.87624, accuracy 0.70\n",
      "epoch 31, loss 1.84729, accuracy 0.70\n",
      "epoch 32, loss 1.82641, accuracy 0.71\n",
      "epoch 33, loss 1.78797, accuracy 0.71\n",
      "epoch 34, loss 1.75324, accuracy 0.71\n",
      "epoch 35, loss 1.72593, accuracy 0.71\n",
      "epoch 36, loss 1.68409, accuracy 0.72\n",
      "epoch 37, loss 1.65833, accuracy 0.72\n",
      "epoch 38, loss 1.62708, accuracy 0.72\n",
      "epoch 39, loss 1.59446, accuracy 0.72\n",
      "epoch 40, loss 1.55351, accuracy 0.72\n",
      "epoch 41, loss 1.52712, accuracy 0.73\n",
      "epoch 42, loss 1.48835, accuracy 0.73\n",
      "epoch 43, loss 1.45908, accuracy 0.73\n",
      "epoch 44, loss 1.42443, accuracy 0.73\n",
      "epoch 45, loss 1.40020, accuracy 0.74\n",
      "epoch 46, loss 1.36576, accuracy 0.74\n",
      "epoch 47, loss 1.33452, accuracy 0.74\n",
      "epoch 48, loss 1.30787, accuracy 0.75\n",
      "epoch 49, loss 1.26889, accuracy 0.75\n",
      "epoch 50, loss 1.25499, accuracy 0.75\n",
      "epoch 51, loss 1.22076, accuracy 0.76\n",
      "epoch 52, loss 1.19626, accuracy 0.76\n",
      "epoch 53, loss 1.17747, accuracy 0.77\n",
      "epoch 54, loss 1.16173, accuracy 0.77\n",
      "epoch 55, loss 1.12799, accuracy 0.77\n",
      "epoch 56, loss 1.11367, accuracy 0.78\n",
      "epoch 57, loss 1.08344, accuracy 0.78\n",
      "epoch 58, loss 1.07245, accuracy 0.78\n",
      "epoch 59, loss 1.05662, accuracy 0.79\n",
      "epoch 60, loss 1.02870, accuracy 0.79\n",
      "epoch 61, loss 1.01669, accuracy 0.79\n",
      "epoch 62, loss 0.99152, accuracy 0.79\n",
      "epoch 63, loss 0.96621, accuracy 0.80\n",
      "epoch 64, loss 0.96232, accuracy 0.80\n",
      "epoch 65, loss 0.95262, accuracy 0.80\n",
      "epoch 66, loss 0.93745, accuracy 0.80\n",
      "epoch 67, loss 0.91477, accuracy 0.80\n",
      "epoch 68, loss 0.90517, accuracy 0.81\n",
      "epoch 69, loss 0.89996, accuracy 0.81\n",
      "epoch 70, loss 0.86929, accuracy 0.81\n",
      "epoch 71, loss 0.85905, accuracy 0.81\n",
      "epoch 72, loss 0.86982, accuracy 0.81\n",
      "epoch 73, loss 0.84520, accuracy 0.82\n",
      "epoch 74, loss 0.82894, accuracy 0.82\n",
      "epoch 75, loss 0.82693, accuracy 0.82\n",
      "epoch 76, loss 0.80831, accuracy 0.82\n",
      "epoch 77, loss 0.81255, accuracy 0.82\n",
      "epoch 78, loss 0.78619, accuracy 0.82\n",
      "epoch 79, loss 0.78041, accuracy 0.82\n",
      "epoch 80, loss 0.76819, accuracy 0.83\n",
      "epoch 81, loss 0.76583, accuracy 0.83\n",
      "epoch 82, loss 0.77355, accuracy 0.83\n",
      "epoch 83, loss 0.72671, accuracy 0.83\n",
      "epoch 84, loss 0.73673, accuracy 0.83\n",
      "epoch 85, loss 0.72073, accuracy 0.83\n",
      "epoch 86, loss 0.71648, accuracy 0.83\n",
      "epoch 87, loss 0.71306, accuracy 0.83\n",
      "epoch 88, loss 0.70226, accuracy 0.83\n",
      "epoch 89, loss 0.69973, accuracy 0.84\n",
      "epoch 90, loss 0.69447, accuracy 0.84\n",
      "epoch 91, loss 0.67423, accuracy 0.84\n",
      "epoch 92, loss 0.69661, accuracy 0.84\n",
      "epoch 93, loss 0.67638, accuracy 0.84\n",
      "epoch 94, loss 0.67466, accuracy 0.84\n",
      "epoch 95, loss 0.64782, accuracy 0.84\n",
      "epoch 96, loss 0.64827, accuracy 0.84\n",
      "epoch 97, loss 0.65085, accuracy 0.84\n",
      "epoch 98, loss 0.65454, accuracy 0.84\n",
      "epoch 99, loss 0.64178, accuracy 0.84\n"
     ]
    },
    {
     "data": {
      "text/plain": [
       "[<matplotlib.lines.Line2D at 0x1fb278152e0>]"
      ]
     },
     "execution_count": 24,
     "metadata": {},
     "output_type": "execute_result"
    },
    {
     "data": {
      "image/png": "[encoded data removed]",
      "text/plain": [
       "<Figure size 432x288 with 1 Axes>"
      ]
     },
     "metadata": {
      "needs_background": "light"
     },
     "output_type": "display_data"
    }
   ],
   "source": [
    "# Here's an example training loop using this two-layer model. Can you do better? \n",
    "# decreasing batch size and increasing epoch\n",
    "learning_rate = 0.01  \n",
    "num_examples = x_train.shape[0]\n",
    "batch_size = 5000\n",
    "num_batches = int(num_examples / batch_size)\n",
    "num_epochs = 100\n",
    "losses = numpy.zeros(num_batches*num_epochs,)\n",
    "indices = numpy.arange(num_examples)\n",
    "\n",
    "i = 0\n",
    "for epoch in range(0, num_epochs):\n",
    "    # in each epoch, we loop over all of the training examples\n",
    "    for step in range(0, num_batches):\n",
    "        # grabbing the next batch\n",
    "        offset = step * batch_size\n",
    "        batch_range = range(offset, offset+batch_size)\n",
    "        x_train_batch = x_train[batch_range, :]\n",
    "        y_train_batch = y_train_onehot[batch_range,:]\n",
    "        \n",
    "        # feed the next batch in to do one sgd step\n",
    "        loss, model = learn(model, x_train_batch, y_train_batch, learning_rate)\n",
    "        losses[i] = loss\n",
    "        i += 1\n",
    "\n",
    "    acc = accuracy(model, x_train, y_train)\n",
    "    print(\"epoch %d, loss %.5f, accuracy %.2f\" % (epoch, loss, acc))\n",
    "    \n",
    "    # reshuffle the data so that we get a new set of batches\n",
    "    numpy.random.shuffle(indices)\n",
    "    x_train = x_train[indices,:]\n",
    "    y_train = y_train[indices] # keep this shuffled the same way for use in accuracy calculation\n",
    "    y_train_onehot = y_train_onehot[indices,:]\n",
    "plt.plot(losses)"
   ]
  },
  {
   "cell_type": "markdown",
   "id": "ac2126f2",
   "metadata": {},
   "source": [
    "By lowering the batch_size and increasing epoch, the accuracy improved from 43.5% to 84%"
   ]
  }
 ],
 "metadata": {
  "colab": {
   "provenance": []
  },
  "kernelspec": {
   "display_name": "Python 3 (ipykernel)",
   "language": "python",
   "name": "python3"
  },
  "language_info": {
   "codemirror_mode": {
    "name": "ipython",
    "version": 3
   },
   "file_extension": ".py",
   "mimetype": "text/x-python",
   "name": "python",
   "nbconvert_exporter": "python",
   "pygments_lexer": "ipython3",
   "version": "3.9.7"
  }
 },
 "nbformat": 4,
 "nbformat_minor": 5
}
