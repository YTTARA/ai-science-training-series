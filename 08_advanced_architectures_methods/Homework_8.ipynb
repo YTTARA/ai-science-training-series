{
 "cells": [
  {
   "cell_type": "markdown",
   "id": "f0836a5c",
   "metadata": {},
   "source": [
    "​​I am currently doing my ​Ph.D. ​and I am working on a project where we are trying to find the challenges that people face with transportation in areas where ​the ​population is decreasing. But on a ​broad scale, I am focused on urban systems in cities to design ​a ​better life for humans. AI can be really helpful in this sector. Data collection is very time and ​cost-intensive. ​There are also privacy concerns. AI can help to analyze historical data and provide insight based on that. City dynamics is a multifaceted event where historic events design the present and influence ​the ​future.\n",
    "​The data type can be tabular such as ​census-type survey data and there are ​satellite images ​and ​Landscan data which are most of the ​time in raster format. Finding patterns from those ​imagery and combining them with available geo-demographic variables can help to find the trend of the existing cities ​and thereby help us to decide where to focus on infrastructure such as ​transportation (like more ​cars, more roads needed or we look for alternatives in terms of logistic and social context).\n",
    "\n",
    "For historic data, rather than using RNN models, I think graph neural networks and similar models will work better to find ​the ​interactive nature of the variables. For finding ​patterns from ​imagery, I think CNN models can help. Cross entropy loss can be a good metric to measure the success of these models. \n"
   ]
  }
 ],
 "metadata": {
  "kernelspec": {
   "display_name": "Python 3 (ipykernel)",
   "language": "python",
   "name": "python3"
  },
  "language_info": {
   "codemirror_mode": {
    "name": "ipython",
    "version": 3
   },
   "file_extension": ".py",
   "mimetype": "text/x-python",
   "name": "python",
   "nbconvert_exporter": "python",
   "pygments_lexer": "ipython3",
   "version": "3.9.7"
  }
 },
 "nbformat": 4,
 "nbformat_minor": 5
}
